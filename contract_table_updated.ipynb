{
 "cells": [
  {
   "cell_type": "code",
   "execution_count": 20,
   "id": "68f8fe74",
   "metadata": {},
   "outputs": [],
   "source": [
    "import pandas as pd\n",
    "import numpy as np"
   ]
  },
  {
   "cell_type": "code",
   "execution_count": 2,
   "id": "bbb1f6d5",
   "metadata": {},
   "outputs": [],
   "source": [
    "contract_payment=pd.read_excel(r'C:\\Users\\risha\\OneDrive\\Documents\\Downloads\\contract_payment_terms.xlsx')"
   ]
  },
  {
   "cell_type": "code",
   "execution_count": 122,
   "id": "53151eb3",
   "metadata": {},
   "outputs": [
    {
     "data": {
      "text/html": [
       "<div>\n",
       "<style scoped>\n",
       "    .dataframe tbody tr th:only-of-type {\n",
       "        vertical-align: middle;\n",
       "    }\n",
       "\n",
       "    .dataframe tbody tr th {\n",
       "        vertical-align: top;\n",
       "    }\n",
       "\n",
       "    .dataframe thead th {\n",
       "        text-align: right;\n",
       "    }\n",
       "</style>\n",
       "<table border=\"1\" class=\"dataframe\">\n",
       "  <thead>\n",
       "    <tr style=\"text-align: right;\">\n",
       "      <th></th>\n",
       "      <th>CPT_ID</th>\n",
       "      <th>FREQ_OF_PMT</th>\n",
       "    </tr>\n",
       "  </thead>\n",
       "  <tbody>\n",
       "    <tr>\n",
       "      <th>0</th>\n",
       "      <td>100</td>\n",
       "      <td>Monthly</td>\n",
       "    </tr>\n",
       "    <tr>\n",
       "      <th>1</th>\n",
       "      <td>101</td>\n",
       "      <td>Quarterly</td>\n",
       "    </tr>\n",
       "    <tr>\n",
       "      <th>2</th>\n",
       "      <td>102</td>\n",
       "      <td>Half Yearly</td>\n",
       "    </tr>\n",
       "    <tr>\n",
       "      <th>3</th>\n",
       "      <td>103</td>\n",
       "      <td>Yearly</td>\n",
       "    </tr>\n",
       "  </tbody>\n",
       "</table>\n",
       "</div>"
      ],
      "text/plain": [
       "   CPT_ID  FREQ_OF_PMT\n",
       "0     100      Monthly\n",
       "1     101    Quarterly\n",
       "2     102  Half Yearly\n",
       "3     103       Yearly"
      ]
     },
     "execution_count": 122,
     "metadata": {},
     "output_type": "execute_result"
    }
   ],
   "source": [
    "contract_payment"
   ]
  },
  {
   "cell_type": "code",
   "execution_count": 123,
   "id": "1a47d934",
   "metadata": {},
   "outputs": [],
   "source": [
    "contract_table=pd.read_excel(r'C:\\Users\\risha\\OneDrive\\Documents\\Downloads\\contract_table.xlsx')"
   ]
  },
  {
   "cell_type": "code",
   "execution_count": 124,
   "id": "529e2764",
   "metadata": {},
   "outputs": [
    {
     "data": {
      "text/html": [
       "<div>\n",
       "<style scoped>\n",
       "    .dataframe tbody tr th:only-of-type {\n",
       "        vertical-align: middle;\n",
       "    }\n",
       "\n",
       "    .dataframe tbody tr th {\n",
       "        vertical-align: top;\n",
       "    }\n",
       "\n",
       "    .dataframe thead th {\n",
       "        text-align: right;\n",
       "    }\n",
       "</style>\n",
       "<table border=\"1\" class=\"dataframe\">\n",
       "  <thead>\n",
       "    <tr style=\"text-align: right;\">\n",
       "      <th></th>\n",
       "      <th>CONTRACT_ID</th>\n",
       "      <th>CONTRACT_TYPE</th>\n",
       "      <th>CONT_S_DATE</th>\n",
       "      <th>CONT_E_DATE</th>\n",
       "      <th>CPT_ID</th>\n",
       "      <th>CONT_AMT</th>\n",
       "      <th>INS_DATE</th>\n",
       "    </tr>\n",
       "  </thead>\n",
       "  <tbody>\n",
       "    <tr>\n",
       "      <th>0</th>\n",
       "      <td>12345</td>\n",
       "      <td>government</td>\n",
       "      <td>2010-01-10</td>\n",
       "      <td>2012-01-10</td>\n",
       "      <td>100</td>\n",
       "      <td>700000</td>\n",
       "      <td>2010-01-10</td>\n",
       "    </tr>\n",
       "    <tr>\n",
       "      <th>1</th>\n",
       "      <td>12879</td>\n",
       "      <td>individual</td>\n",
       "      <td>2011-02-03</td>\n",
       "      <td>2012-02-15</td>\n",
       "      <td>101</td>\n",
       "      <td>489938</td>\n",
       "      <td>2011-02-03</td>\n",
       "    </tr>\n",
       "    <tr>\n",
       "      <th>2</th>\n",
       "      <td>12987</td>\n",
       "      <td>individual</td>\n",
       "      <td>2011-02-15</td>\n",
       "      <td>2011-09-15</td>\n",
       "      <td>100</td>\n",
       "      <td>289456</td>\n",
       "      <td>2011-02-15</td>\n",
       "    </tr>\n",
       "    <tr>\n",
       "      <th>3</th>\n",
       "      <td>12346</td>\n",
       "      <td>government</td>\n",
       "      <td>2009-03-13</td>\n",
       "      <td>2011-03-14</td>\n",
       "      <td>102</td>\n",
       "      <td>200000</td>\n",
       "      <td>2009-03-10</td>\n",
       "    </tr>\n",
       "    <tr>\n",
       "      <th>4</th>\n",
       "      <td>12348</td>\n",
       "      <td>government</td>\n",
       "      <td>2012-04-06</td>\n",
       "      <td>2013-05-22</td>\n",
       "      <td>103</td>\n",
       "      <td>200000</td>\n",
       "      <td>2009-05-08</td>\n",
       "    </tr>\n",
       "  </tbody>\n",
       "</table>\n",
       "</div>"
      ],
      "text/plain": [
       "   CONTRACT_ID CONTRACT_TYPE CONT_S_DATE CONT_E_DATE  CPT_ID  CONT_AMT  \\\n",
       "0        12345    government  2010-01-10  2012-01-10     100    700000   \n",
       "1        12879    individual  2011-02-03  2012-02-15     101    489938   \n",
       "2        12987    individual  2011-02-15  2011-09-15     100    289456   \n",
       "3        12346    government  2009-03-13  2011-03-14     102    200000   \n",
       "4        12348    government  2012-04-06  2013-05-22     103    200000   \n",
       "\n",
       "    INS_DATE  \n",
       "0 2010-01-10  \n",
       "1 2011-02-03  \n",
       "2 2011-02-15  \n",
       "3 2009-03-10  \n",
       "4 2009-05-08  "
      ]
     },
     "execution_count": 124,
     "metadata": {},
     "output_type": "execute_result"
    }
   ],
   "source": [
    "contract_table"
   ]
  },
  {
   "cell_type": "code",
   "execution_count": 125,
   "id": "b62e61f3",
   "metadata": {},
   "outputs": [],
   "source": [
    "expected_receivable_table=pd.DataFrame()"
   ]
  },
  {
   "cell_type": "code",
   "execution_count": 126,
   "id": "b788aab8",
   "metadata": {},
   "outputs": [
    {
     "data": {
      "text/plain": [
       "dtype('int64')"
      ]
     },
     "execution_count": 126,
     "metadata": {},
     "output_type": "execute_result"
    }
   ],
   "source": [
    "contract_table.CPT_ID.dtype"
   ]
  },
  {
   "cell_type": "code",
   "execution_count": 127,
   "id": "cf8f3a2b",
   "metadata": {},
   "outputs": [],
   "source": [
    "#for i in contract_table['CPT_ID']:\n",
    "    #if i==100:\n",
    "#         months_between = round((contract_table['CONT_E_DATE'] - contract_table['CONT_S_DATE'])/np.timedelta64(1, 'M'))\n",
    "#         print(months_between)\n",
    "        \n",
    "#         if i==101:\n",
    "#             quarters_between = round((contract_table['CONT_E_DATE'] - contract_table['CONT_S_DATE'])/np.timedelta64(4, 'M'))\n",
    "#             return quarters_between\n",
    "#         elif i==102:\n",
    "#             half_yearly_between = round((contract_table['CONT_E_DATE'] - contract_table['CONT_S_DATE'])/np.timedelta64(6, 'M'))\n",
    "#             return half_yearly_between\n",
    "#         else:\n",
    "#             years_between = round((contract_table['CONT_E_DATE'] - contract_table['CONT_S_DATE'])/np.timedelta64(1, 'Y'))\n",
    "#             return years_between\n",
    "        "
   ]
  },
  {
   "cell_type": "code",
   "execution_count": 128,
   "id": "38f912c6",
   "metadata": {},
   "outputs": [],
   "source": [
    "# for i in contract_table['CPT_ID']:\n",
    "#     if i==101:\n",
    "#         quarters_between = round((contract_table['CONT_E_DATE'] - contract_table['CONT_S_DATE'])/np.timedelta64(3, 'M'))\n",
    "#         print(quarters_between)"
   ]
  },
  {
   "cell_type": "code",
   "execution_count": 129,
   "id": "923bc32d",
   "metadata": {},
   "outputs": [],
   "source": [
    "# for i in contract_table['CPT_ID']:\n",
    "#     if i==102:\n",
    "#         half_yearly_between = round((contract_table['CONT_E_DATE'] - contract_table['CONT_S_DATE'])/np.timedelta64(6, 'M'))\n",
    "#         print(half_yearly_between)"
   ]
  },
  {
   "cell_type": "code",
   "execution_count": 130,
   "id": "1b1ab736",
   "metadata": {},
   "outputs": [],
   "source": [
    "# for i in contract_table['CPT_ID']:\n",
    "#     if i==103:\n",
    "#         years_between = round((contract_table['CONT_E_DATE'] - contract_table['CONT_S_DATE'])/np.timedelta64(1, 'Y'))"
   ]
  },
  {
   "cell_type": "code",
   "execution_count": 131,
   "id": "fdb7bf0f",
   "metadata": {},
   "outputs": [],
   "source": [
    "final_table=pd.DataFrame()"
   ]
  },
  {
   "cell_type": "code",
   "execution_count": null,
   "id": "505da1e9",
   "metadata": {},
   "outputs": [],
   "source": []
  },
  {
   "cell_type": "code",
   "execution_count": 132,
   "id": "c65441d4",
   "metadata": {},
   "outputs": [],
   "source": [
    "# for i in contract_payment['FREQ_OF_PMT']:\n",
    "#     if i=='Monthly':\n",
    "#         final_table['Amount']=contract_table['CONT_AMT']/months_between\n",
    "#     elif i=='Quarterly':\n",
    "#         final_table['Amount']=contract_table['CONT_AMT']/quarters_between\n",
    "#     elif i=='Half Yearly':\n",
    "#         final_table['Amount']=contract_table['CONT_AMT']/half_yearly_between\n",
    "#     else:\n",
    "#         final_table['Amount']=contract_table['CONT_AMT']/years_between"
   ]
  },
  {
   "cell_type": "code",
   "execution_count": 133,
   "id": "d0953f48",
   "metadata": {},
   "outputs": [],
   "source": [
    "# final_table['Amount']"
   ]
  },
  {
   "cell_type": "code",
   "execution_count": 140,
   "id": "54e282b9",
   "metadata": {},
   "outputs": [
    {
     "data": {
      "text/plain": [
       "DatetimeIndex(['2010-02-01', '2010-03-01', '2010-04-01', '2010-05-01',\n",
       "               '2010-06-01', '2010-07-01', '2010-08-01', '2010-09-01',\n",
       "               '2010-10-01', '2010-11-01', '2010-12-01', '2011-01-01',\n",
       "               '2011-02-01', '2011-03-01', '2011-04-01', '2011-05-01',\n",
       "               '2011-06-01', '2011-07-01', '2011-08-01', '2011-09-01',\n",
       "               '2011-10-01', '2011-11-01', '2011-12-01', '2012-01-01'],\n",
       "              dtype='datetime64[ns]', freq='MS')"
      ]
     },
     "execution_count": 140,
     "metadata": {},
     "output_type": "execute_result"
    }
   ],
   "source": [
    "pd.date_range(start='2010-01-10',end='2012-01-10',freq='MS')\n"
   ]
  },
  {
   "cell_type": "code",
   "execution_count": 141,
   "id": "62ae98e1",
   "metadata": {},
   "outputs": [
    {
     "data": {
      "text/plain": [
       "DatetimeIndex(['2011-03-31', '2011-06-30', '2011-09-30', '2011-12-31'], dtype='datetime64[ns]', freq='Q-DEC')"
      ]
     },
     "execution_count": 141,
     "metadata": {},
     "output_type": "execute_result"
    }
   ],
   "source": [
    "pd.date_range(start='2011-02-03',end='2012-02-15',freq='Q')"
   ]
  },
  {
   "cell_type": "code",
   "execution_count": 142,
   "id": "74d22882",
   "metadata": {},
   "outputs": [
    {
     "data": {
      "text/plain": [
       "DatetimeIndex(['2011-03-01', '2011-04-01', '2011-05-01', '2011-06-01',\n",
       "               '2011-07-01', '2011-08-01', '2011-09-01'],\n",
       "              dtype='datetime64[ns]', freq='MS')"
      ]
     },
     "execution_count": 142,
     "metadata": {},
     "output_type": "execute_result"
    }
   ],
   "source": [
    "pd.date_range(start='2011-02-15',end='2011-09-15',freq='MS')\n"
   ]
  },
  {
   "cell_type": "code",
   "execution_count": 143,
   "id": "b205abfb",
   "metadata": {},
   "outputs": [
    {
     "data": {
      "text/plain": [
       "DatetimeIndex(['2009-03-31', '2009-09-30', '2010-03-31', '2010-09-30'], dtype='datetime64[ns]', freq='6M')"
      ]
     },
     "execution_count": 143,
     "metadata": {},
     "output_type": "execute_result"
    }
   ],
   "source": [
    "pd.date_range(start='2009-03-13',end='2011-03-14',freq='6M')"
   ]
  },
  {
   "cell_type": "code",
   "execution_count": 144,
   "id": "073d71e8",
   "metadata": {},
   "outputs": [
    {
     "data": {
      "text/plain": [
       "DatetimeIndex(['2012-12-31'], dtype='datetime64[ns]', freq='A-DEC')"
      ]
     },
     "execution_count": 144,
     "metadata": {},
     "output_type": "execute_result"
    }
   ],
   "source": [
    "pd.date_range(start='2012-04-06',end='2013-05-22',freq='Y')"
   ]
  },
  {
   "cell_type": "code",
   "execution_count": null,
   "id": "88f18b4c",
   "metadata": {},
   "outputs": [],
   "source": []
  }
 ],
 "metadata": {
  "kernelspec": {
   "display_name": "Python 3 (ipykernel)",
   "language": "python",
   "name": "python3"
  },
  "language_info": {
   "codemirror_mode": {
    "name": "ipython",
    "version": 3
   },
   "file_extension": ".py",
   "mimetype": "text/x-python",
   "name": "python",
   "nbconvert_exporter": "python",
   "pygments_lexer": "ipython3",
   "version": "3.9.12"
  }
 },
 "nbformat": 4,
 "nbformat_minor": 5
}
